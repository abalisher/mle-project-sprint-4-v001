{
 "cells": [
  {
   "cell_type": "markdown",
   "id": "f4095ae4-7294-4b28-853e-88d235002c97",
   "metadata": {},
   "source": [
    "# Инициализация"
   ]
  },
  {
   "cell_type": "markdown",
   "id": "2f2318d2-9df8-4911-915e-15b725c44f8a",
   "metadata": {},
   "source": [
    "Загружаем библиотеки необходимые для выполнения кода ноутбука."
   ]
  },
  {
   "cell_type": "code",
   "execution_count": 1,
   "id": "662d04e7-1b0b-4e4a-9ddf-4526d7fef119",
   "metadata": {},
   "outputs": [],
   "source": [
    "import pandas as pd\n",
    "import numpy as np\n",
    "import s3fs\n",
    "from scipy.sparse import csr_matrix\n",
    "from implicit.als import AlternatingLeastSquares\n",
    "from sklearn.preprocessing import LabelEncoder\n",
    "import lightgbm as lgb\n",
    "import os\n",
    "from dotenv import load_dotenv\n",
    "\n",
    "# Визуализация (если понадобится для EDA)\n",
    "import matplotlib.pyplot as plt\n",
    "import seaborn as sns\n",
    "\n",
    "# Укажи имя своего S3 бакета\n",
    "S3_BUCKET_NAME = os.getenv(\"S3_BUCKET_NAME\")"
   ]
  },
  {
   "cell_type": "markdown",
   "id": "bf80fbc5-b660-4fac-8fbb-a5cae77313b3",
   "metadata": {},
   "source": [
    "# === ЭТАП 1 ==="
   ]
  },
  {
   "cell_type": "markdown",
   "id": "5263a8b3-fe99-4204-8a2e-105182792c11",
   "metadata": {},
   "source": [
    "# Загрузка первичных данных"
   ]
  },
  {
   "cell_type": "markdown",
   "id": "1b54a6a5-1656-4e3c-99d1-49dc39451d33",
   "metadata": {},
   "source": [
    "Загружаем первичные данные из файлов:\n",
    "- tracks.parquet\n",
    "- catalog_names.parquet\n",
    "- interactions.parquet"
   ]
  },
  {
   "cell_type": "code",
   "execution_count": 3,
   "id": "5d4b8961-3f35-4e58-9d6b-3e2dbd2c4224",
   "metadata": {},
   "outputs": [],
   "source": [
    "tracks = pd.read_parquet(\"tracks.parquet\")\n",
    "catalog_names = pd.read_parquet(\"catalog_names.parquet\")\n",
    "interactions = pd.read_parquet(\"interactions.parquet\")"
   ]
  },
  {
   "cell_type": "markdown",
   "id": "e8f2a1f7-a05f-4f39-af90-5f4018aa6f9d",
   "metadata": {},
   "source": [
    "# Обзор данных"
   ]
  },
  {
   "cell_type": "markdown",
   "id": "46a85307-896c-4fac-9fcf-f0dffa90889e",
   "metadata": {},
   "source": [
    "Проверяем данные, есть ли с ними явные проблемы."
   ]
  },
  {
   "cell_type": "code",
   "execution_count": 4,
   "id": "c9f8f17e-9b56-4f5a-a463-f694a993effb",
   "metadata": {},
   "outputs": [
    {
     "name": "stdout",
     "output_type": "stream",
     "text": [
      "<class 'pandas.core.frame.DataFrame'>\n",
      "RangeIndex: 1000000 entries, 0 to 999999\n",
      "Data columns (total 4 columns):\n",
      " #   Column    Non-Null Count    Dtype \n",
      "---  ------    --------------    ----- \n",
      " 0   track_id  1000000 non-null  int64 \n",
      " 1   albums    1000000 non-null  object\n",
      " 2   artists   1000000 non-null  object\n",
      " 3   genres    1000000 non-null  object\n",
      "dtypes: int64(1), object(3)\n",
      "memory usage: 30.5+ MB\n",
      "   track_id                                             albums artists  \\\n",
      "0        26                                       [3, 2490753]    [16]   \n",
      "1        38                                       [3, 2490753]    [16]   \n",
      "2       135                                 [12, 214, 2490809]    [84]   \n",
      "3       136                                 [12, 214, 2490809]    [84]   \n",
      "4       138  [12, 214, 322, 72275, 72292, 91199, 213505, 24...    [84]   \n",
      "\n",
      "     genres  \n",
      "0  [11, 21]  \n",
      "1  [11, 21]  \n",
      "2      [11]  \n",
      "3      [11]  \n",
      "4      [11]  \n"
     ]
    }
   ],
   "source": [
    "tracks.info()\n",
    "print(tracks.head())"
   ]
  },
  {
   "cell_type": "code",
   "execution_count": 4,
   "id": "ee869cd2",
   "metadata": {},
   "outputs": [
    {
     "name": "stdout",
     "output_type": "stream",
     "text": [
      "<class 'pandas.core.frame.DataFrame'>\n",
      "RangeIndex: 1812471 entries, 0 to 1812470\n",
      "Data columns (total 3 columns):\n",
      " #   Column  Dtype \n",
      "---  ------  ----- \n",
      " 0   id      int64 \n",
      " 1   type    object\n",
      " 2   name    object\n",
      "dtypes: int64(1), object(2)\n",
      "memory usage: 41.5+ MB\n",
      "   id   type               name\n",
      "0   3  album    Taller Children\n",
      "1  12  album  Wild Young Hearts\n",
      "2  13  album      Lonesome Crow\n",
      "3  17  album      Graffiti Soul\n",
      "4  26  album     Blues Six Pack\n"
     ]
    }
   ],
   "source": [
    "catalog_names.info()\n",
    "print(catalog_names.head())"
   ]
  },
  {
   "cell_type": "code",
   "execution_count": 5,
   "id": "438f1903",
   "metadata": {},
   "outputs": [
    {
     "name": "stdout",
     "output_type": "stream",
     "text": [
      "<class 'pandas.core.frame.DataFrame'>\n",
      "Index: 222629898 entries, 0 to 291\n",
      "Data columns (total 4 columns):\n",
      " #   Column      Dtype         \n",
      "---  ------      -----         \n",
      " 0   user_id     int32         \n",
      " 1   track_id    int32         \n",
      " 2   track_seq   int16         \n",
      " 3   started_at  datetime64[ns]\n",
      "dtypes: datetime64[ns](1), int16(1), int32(2)\n",
      "memory usage: 5.4 GB\n",
      "   user_id  track_id  track_seq started_at\n",
      "0        0     99262          1 2022-07-17\n",
      "1        0    589498          2 2022-07-19\n",
      "2        0    590262          3 2022-07-21\n",
      "3        0    590303          4 2022-07-22\n",
      "4        0    590692          5 2022-07-22\n"
     ]
    }
   ],
   "source": [
    "interactions.info()\n",
    "print(interactions.head())"
   ]
  },
  {
   "cell_type": "code",
   "execution_count": 6,
   "id": "efd2e2eb-3bec-4ce1-87ac-232bab8bc0d0",
   "metadata": {},
   "outputs": [
    {
     "name": "stdout",
     "output_type": "stream",
     "text": [
      "\n",
      "Количество треков с неизвестными жанрами: 3687\n",
      "Количество треков с неизвестными исполнителями: 15369\n"
     ]
    }
   ],
   "source": [
    "# Проверяем наличие треков с пустыми списками жанров или артистов\n",
    "empty_genres_count = tracks['genres'].apply(lambda x: len(x) == 0).sum()\n",
    "empty_artists_count = tracks['artists'].apply(lambda x: len(x) == 0).sum()\n",
    "print(f\"\\nКоличество треков с неизвестными жанрами: {empty_genres_count}\")\n",
    "print(f\"Количество треков с неизвестными исполнителями: {empty_artists_count}\")"
   ]
  },
  {
   "cell_type": "markdown",
   "id": "318b573a-9e2d-4808-95db-60cfb8bbdb73",
   "metadata": {
    "editable": true,
    "slideshow": {
     "slide_type": ""
    },
    "tags": []
   },
   "source": [
    "# Выводы"
   ]
  },
  {
   "cell_type": "markdown",
   "id": "caa96e12-36a8-4401-8f11-98627a49ae9d",
   "metadata": {},
   "source": [
    "Приведём выводы по первому знакомству с данными:\n",
    "- есть ли с данными явные проблемы,\n",
    "- какие корректирующие действия (в целом) были предприняты."
   ]
  },
  {
   "cell_type": "markdown",
   "id": "abd474cf",
   "metadata": {},
   "source": [
    "Типы данных корректны: Все идентификаторы имеют числовой тип, что подходит для дальнейшей работы.\n",
    "\n",
    "Обнаружены проблемы: Выявлено значительное количество треков, у которых отсутствуют данные об исполнителях (artists) или жанрах (genres). Такие треки бесполезны для большинства рекомендательных подходов.\n",
    "\n",
    "Корректирующее действие: Было принято решение удалить \"неполные\" треки из каталога, а также все взаимодействия пользователей с этими треками, чтобы обеспечить чистоту данных для обучения моделей."
   ]
  },
  {
   "cell_type": "code",
   "execution_count": 7,
   "id": "f58cd010-c2fa-475f-b7e9-767965cd4f55",
   "metadata": {},
   "outputs": [],
   "source": [
    "# Находим ID треков, у которых есть и артисты, и жанры\n",
    "valid_track_ids = tracks[\n",
    "    (tracks['artists'].apply(len) > 0) &\n",
    "    (tracks['genres'].apply(len) > 0)\n",
    "]['track_id']\n",
    "\n",
    "# Фильтруем датафреймы\n",
    "tracks_cleaned = tracks[tracks['track_id'].isin(valid_track_ids)]\n",
    "interactions_cleaned = interactions[interactions['track_id'].isin(valid_track_ids)]"
   ]
  },
  {
   "cell_type": "code",
   "execution_count": 8,
   "id": "9eb65c5c-3c2a-412a-ab7e-30ec9da54fea",
   "metadata": {},
   "outputs": [
    {
     "name": "stdout",
     "output_type": "stream",
     "text": [
      "Изначальное количество треков: 1000000\n",
      "Количество треков после очистки: 980977\n",
      "Изначальное количество взаимодействий: 222629898\n",
      "Количество взаимодействий после очистки: 222184449\n"
     ]
    }
   ],
   "source": [
    "print(f\"Изначальное количество треков: {len(tracks)}\")\n",
    "print(f\"Количество треков после очистки: {len(tracks_cleaned)}\")\n",
    "print(f\"Изначальное количество взаимодействий: {len(interactions)}\")\n",
    "print(f\"Количество взаимодействий после очистки: {len(interactions_cleaned)}\")"
   ]
  },
  {
   "cell_type": "markdown",
   "id": "7bc3296b-eba6-4333-a78d-b9304aa87e3d",
   "metadata": {},
   "source": [
    "# === ЭТАП 2 ==="
   ]
  },
  {
   "cell_type": "markdown",
   "id": "68e73960-fd38-4e15-8db0-9a25c35dfd25",
   "metadata": {},
   "source": [
    "# EDA"
   ]
  },
  {
   "cell_type": "markdown",
   "id": "a30e823e-8e0f-4a76-a02e-8d1ba8bf0f8a",
   "metadata": {},
   "source": [
    "Распределение количества прослушанных треков."
   ]
  },
  {
   "cell_type": "code",
   "execution_count": 9,
   "id": "9bf5eaba-35f7-4da7-be59-9ab4a34b2423",
   "metadata": {},
   "outputs": [],
   "source": [
    "user_activity = interactions_cleaned.groupby('user_id')['track_id'].count()"
   ]
  },
  {
   "cell_type": "code",
   "execution_count": 10,
   "id": "ec060cb8",
   "metadata": {},
   "outputs": [
    {
     "data": {
      "image/png": "[encoded data removed]",
      "text/plain": [
       "<Figure size 1200x600 with 1 Axes>"
      ]
     },
     "metadata": {},
     "output_type": "display_data"
    }
   ],
   "source": [
    "plt.figure(figsize=(12, 6))\n",
    "sns.histplot(user_activity, bins=100, log_scale=True)\n",
    "plt.title('Распределение количества прослушанных треков на пользователя (логарифмическая шкала)')\n",
    "plt.xlabel('Количество треков')\n",
    "plt.ylabel('Количество пользователей')\n",
    "plt.show()"
   ]
  },
  {
   "cell_type": "code",
   "execution_count": 11,
   "id": "7b76dc5f",
   "metadata": {},
   "outputs": [
    {
     "name": "stdout",
     "output_type": "stream",
     "text": [
      "count    1.372767e+06\n",
      "mean     1.618515e+02\n",
      "std      3.507933e+02\n",
      "min      1.000000e+00\n",
      "25%      2.300000e+01\n",
      "50%      5.500000e+01\n",
      "75%      1.530000e+02\n",
      "max      1.663000e+04\n",
      "Name: track_id, dtype: float64\n"
     ]
    }
   ],
   "source": [
    "print(user_activity.describe())"
   ]
  },
  {
   "cell_type": "markdown",
   "id": "d765519a-18dd-4d30-9e29-cc2d84cacd79",
   "metadata": {},
   "source": [
    "Наиболее популярные треки"
   ]
  },
  {
   "cell_type": "code",
   "execution_count": 12,
   "id": "aecaf630-fde0-4860-b84a-42c933a9606e",
   "metadata": {},
   "outputs": [
    {
     "name": "stdout",
     "output_type": "stream",
     "text": [
      "Топ-10 самых популярных треков:\n",
      "   track_id  listen_count               track_name\n",
      "0     53404        111062  Smells Like Teen Spirit\n",
      "1  33311009        106921                 Believer\n",
      "2    178529        101924                     Numb\n",
      "3  35505245         99490               I Got Love\n",
      "4  65851540         86670                   Юность\n",
      "5  24692821         86246           Way Down We Go\n",
      "6  32947997         85886             Shape of You\n",
      "7  51241318         85244               In The End\n",
      "8    795836         85042        Shape Of My Heart\n",
      "9  45499814         84748                     Life\n"
     ]
    }
   ],
   "source": [
    "popular_tracks = interactions_cleaned['track_id'].value_counts().head(10)\n",
    "popular_tracks_df = popular_tracks.reset_index()\n",
    "popular_tracks_df.columns = ['track_id', 'listen_count']\n",
    "\n",
    "# Добавляем названия треков\n",
    "track_names = catalog_names[catalog_names['type'] == 'track'][['id', 'name']].rename(columns={'id': 'track_id', 'name': 'track_name'})\n",
    "popular_tracks_df = popular_tracks_df.merge(track_names, on='track_id')\n",
    "\n",
    "print(\"Топ-10 самых популярных треков:\")\n",
    "print(popular_tracks_df)"
   ]
  },
  {
   "cell_type": "markdown",
   "id": "b1c32a5a-d3be-4f96-8dd9-f7860951020c",
   "metadata": {},
   "source": [
    "Наиболее популярные жанры"
   ]
  },
  {
   "cell_type": "code",
   "execution_count": 13,
   "id": "1bc50491-9235-4d3c-a6c2-297f7c05a959",
   "metadata": {},
   "outputs": [
    {
     "name": "stdout",
     "output_type": "stream",
     "text": [
      "\n",
      "Топ-10 самых популярных жанров:\n",
      "   genre_id  track_count   genre_name\n",
      "0        11       166284          pop\n",
      "1        75       128212          rap\n",
      "2       102       118506      allrock\n",
      "3        68       114232  electronics\n",
      "4        47        72311        metal\n",
      "5         3        65958       rusrap\n",
      "6        44        59778   foreignrap\n",
      "7        14        55174         rock\n",
      "8        16        51631        dance\n",
      "9        20        46706       ruspop\n"
     ]
    }
   ],
   "source": [
    "# \"Взрываем\" список жанров, чтобы каждый жанр был в отдельной строке\n",
    "genres_exploded = tracks_cleaned.explode('genres')\n",
    "popular_genres = genres_exploded['genres'].value_counts().head(10)\n",
    "popular_genres_df = popular_genres.reset_index()\n",
    "popular_genres_df.columns = ['genre_id', 'track_count']\n",
    "\n",
    "# Добавляем названия жанров\n",
    "genre_names = catalog_names[catalog_names['type'] == 'genre'][['id', 'name']].rename(columns={'id': 'genre_id', 'name': 'genre_name'})\n",
    "popular_genres_df = popular_genres_df.merge(genre_names, on='genre_id')\n",
    "\n",
    "print(\"\\nТоп-10 самых популярных жанров:\")\n",
    "print(popular_genres_df)"
   ]
  },
  {
   "cell_type": "markdown",
   "id": "15254e66-e80e-473b-ba24-abebea5ccac7",
   "metadata": {},
   "source": [
    "Треки, которые никто не прослушал"
   ]
  },
  {
   "cell_type": "code",
   "execution_count": 14,
   "id": "50bc50c6-2d83-4c7e-97fa-3e7627978438",
   "metadata": {},
   "outputs": [
    {
     "name": "stdout",
     "output_type": "stream",
     "text": [
      "\n",
      "Всего треков в очищенном каталоге: 980977\n",
      "Из них прослушано хотя бы раз: 980977\n",
      "Никогда не прослушанных треков: 0\n"
     ]
    }
   ],
   "source": [
    "all_track_ids = set(tracks_cleaned['track_id'])\n",
    "listened_track_ids = set(interactions_cleaned['track_id'])\n",
    "unlistened_tracks_count = len(all_track_ids - listened_track_ids)\n",
    "\n",
    "print(f\"\\nВсего треков в очищенном каталоге: {len(all_track_ids)}\")\n",
    "print(f\"Из них прослушано хотя бы раз: {len(listened_track_ids)}\")\n",
    "print(f\"Никогда не прослушанных треков: {unlistened_tracks_count}\")"
   ]
  },
  {
   "cell_type": "markdown",
   "id": "0d850a07-ef1e-462f-891a-1cf89f2e24ef",
   "metadata": {},
   "source": [
    "# Преобразование данных"
   ]
  },
  {
   "cell_type": "markdown",
   "id": "fabcf8d2-1192-4df5-b20b-fbb84689f57a",
   "metadata": {},
   "source": [
    "Преобразуем данные в формат, более пригодный для дальнейшего использования в расчётах рекомендаций."
   ]
  },
  {
   "cell_type": "code",
   "execution_count": 15,
   "id": "a425556a-9382-45ca-a04e-f1981a522126",
   "metadata": {},
   "outputs": [
    {
     "name": "stdout",
     "output_type": "stream",
     "text": [
      "items\n",
      "   item_id                                             albums artists  \\\n",
      "0       26                                       [3, 2490753]    [16]   \n",
      "1       38                                       [3, 2490753]    [16]   \n",
      "2      135                                 [12, 214, 2490809]    [84]   \n",
      "3      136                                 [12, 214, 2490809]    [84]   \n",
      "4      138  [12, 214, 322, 72275, 72292, 91199, 213505, 24...    [84]   \n",
      "\n",
      "     genres  \n",
      "0  [11, 21]  \n",
      "1  [11, 21]  \n",
      "2      [11]  \n",
      "3      [11]  \n",
      "4      [11]  \n",
      "\n",
      "events\n",
      "   user_id  item_id started_at\n",
      "0        0    99262 2022-07-17\n",
      "1        0   589498 2022-07-19\n",
      "2        0   590262 2022-07-21\n",
      "3        0   590303 2022-07-22\n",
      "4        0   590692 2022-07-22\n"
     ]
    }
   ],
   "source": [
    "items = tracks_cleaned.copy()\n",
    "# Для удобства переименуем track_id в item_id\n",
    "items = items.rename(columns={'track_id': 'item_id'})\n",
    "\n",
    "events = interactions_cleaned[['user_id', 'track_id', 'started_at']].copy()\n",
    "events = events.rename(columns={'track_id': 'item_id'})\n",
    "\n",
    "print(\"items\")\n",
    "print(items.head())\n",
    "print(\"\\nevents\")\n",
    "print(events.head())"
   ]
  },
  {
   "cell_type": "markdown",
   "id": "4d1be653-eed8-4fa0-a9c5-3811b080d71d",
   "metadata": {},
   "source": [
    "# Сохранение данных"
   ]
  },
  {
   "cell_type": "markdown",
   "id": "36f1314a-3af3-4faf-a0b1-3045173d1500",
   "metadata": {},
   "source": [
    "Сохраним данные в двух файлах в персональном S3-бакете по пути `recsys/data/`:\n",
    "- `items.parquet` — все данные о музыкальных треках,\n",
    "- `events.parquet` — все данные о взаимодействиях."
   ]
  },
  {
   "cell_type": "code",
   "execution_count": 17,
   "id": "9f77af17-7705-4fae-9aad-db579b39faad",
   "metadata": {},
   "outputs": [],
   "source": [
    "aws_access_key = os.getenv(\"AWS_ACCESS_KEY_ID\")\n",
    "aws_secret_key = os.getenv(\"AWS_SECRET_ACCESS_KEY\")\n",
    "s3_endpoint = \"https://storage.yandexcloud.net\"\n",
    "\n",
    "storage_options = {\n",
    "        \"key\": aws_access_key,\n",
    "        \"secret\": aws_secret_key,\n",
    "        \"client_kwargs\": {'endpoint_url': s3_endpoint}\n",
    "    }\n",
    "\n",
    "# Убедись, что директория recsys/data существует в бакете\n",
    "items.to_parquet(f's3://{S3_BUCKET_NAME}/recsys/data/items.parquet', storage_options=storage_options)\n",
    "events.to_parquet(f's3://{S3_BUCKET_NAME}/recsys/data/events.parquet', storage_options=storage_options)"
   ]
  },
  {
   "cell_type": "markdown",
   "id": "72ecbbed-c560-44d9-9c14-86c7dc76f399",
   "metadata": {},
   "source": [
    "# Очистка памяти"
   ]
  },
  {
   "cell_type": "markdown",
   "id": "b5358ede-ba6e-4c4f-bd73-5b9344f0ba79",
   "metadata": {},
   "source": [
    "Здесь, может понадобится очистка памяти для высвобождения ресурсов для выполнения кода ниже. \n",
    "\n",
    "Приведите соответствующие код, комментарии, например:\n",
    "- код для удаление более ненужных переменных,\n",
    "- комментарий, что следует перезапустить kernel, выполнить такие-то начальные секции и продолжить с этапа 3."
   ]
  },
  {
   "cell_type": "markdown",
   "id": "4de44dc3",
   "metadata": {},
   "source": [
    "Этапы 1 и 2 завершены. Мы обработали и сохранили данные. Теперь можно удалить из памяти большие исходные датафреймы, чтобы освободить ресурсы для обучения моделей."
   ]
  },
  {
   "cell_type": "code",
   "execution_count": 18,
   "id": "767fe920-e12e-4ad8-b04e-56e8091fac9f",
   "metadata": {},
   "outputs": [
    {
     "data": {
      "text/plain": [
       "1215"
      ]
     },
     "execution_count": 18,
     "metadata": {},
     "output_type": "execute_result"
    }
   ],
   "source": [
    "import gc\n",
    "\n",
    "del tracks, catalog_names, interactions, tracks_cleaned, interactions_cleaned\n",
    "del popular_tracks_df, popular_genres_df\n",
    "gc.collect()"
   ]
  },
  {
   "cell_type": "markdown",
   "id": "67035e77",
   "metadata": {},
   "source": [
    "На этом моменте, если у тебя мало оперативной памяти на виртуальной машине, лучше всего перезапустить ядро (Restart Kernel), а затем выполнить ячейку с Инициализацией и сразу перейти к Этапу 3."
   ]
  },
  {
   "cell_type": "markdown",
   "id": "708503df-ee89-4cf3-8489-093dc478e2a8",
   "metadata": {},
   "source": [
    "# === ЭТАП 3 ==="
   ]
  },
  {
   "cell_type": "markdown",
   "id": "fd77de22-e10f-4b42-85c1-8fb6f805fe68",
   "metadata": {},
   "source": [
    "# Загрузка данных"
   ]
  },
  {
   "cell_type": "markdown",
   "id": "780a4241-1ecd-4a3e-bbb3-fc2f6ca94f68",
   "metadata": {},
   "source": [
    "Если необходимо, то загружаем items.parquet, events.parquet."
   ]
  },
  {
   "cell_type": "code",
   "execution_count": 2,
   "id": "f19fc8a5-bd2c-40d7-864a-ee75aca6d512",
   "metadata": {},
   "outputs": [
    {
     "name": "stdout",
     "output_type": "stream",
     "text": [
      "Загружаем данные из S3...\n",
      "Данные успешно загружены.\n"
     ]
    }
   ],
   "source": [
    "aws_access_key = os.getenv(\"AWS_ACCESS_KEY_ID\")\n",
    "aws_secret_key = os.getenv(\"AWS_SECRET_ACCESS_KEY\")\n",
    "s3_endpoint = \"https://storage.yandexcloud.net\"\n",
    "\n",
    "storage_options = {\n",
    "        \"key\": aws_access_key,\n",
    "        \"secret\": aws_secret_key,\n",
    "        \"client_kwargs\": {'endpoint_url': s3_endpoint}\n",
    "    }\n",
    "\n",
    "# Если ты не перезапускал ядро, эти фреймы уже должны быть в памяти.\n",
    "# Но на случай перезапуска, выполним загрузку снова.\n",
    "try:\n",
    "    items.head()\n",
    "    events.head()\n",
    "    print(\"Данные уже в памяти.\")\n",
    "except NameError:\n",
    "    print(\"Загружаем данные из S3...\")\n",
    "    items_full = pd.read_parquet(f's3://{S3_BUCKET_NAME}/recsys/data/items.parquet', storage_options=storage_options)\n",
    "    events_full = pd.read_parquet(f's3://{S3_BUCKET_NAME}/recsys/data/events.parquet', storage_options=storage_options)\n",
    "    print(\"Данные успешно загружены.\")"
   ]
  },
  {
   "cell_type": "markdown",
   "id": "95526798",
   "metadata": {},
   "source": [
    "Так как обработка полных данных на этапе рассчета персональные рекомендации занимала больше часа, остановил и решил сэмплировать данные"
   ]
  },
  {
   "cell_type": "code",
   "execution_count": 5,
   "id": "601f1007",
   "metadata": {},
   "outputs": [
    {
     "name": "stdout",
     "output_type": "stream",
     "text": [
      "Очищаем память от полных датафреймов...\n",
      "Количество пользователей в выборке: 137,276\n",
      "Количество взаимодействий в выборке: 22,146,948\n",
      "Количество треков в выборке: 779,153\n"
     ]
    }
   ],
   "source": [
    "# --- Выполняем сэмплирование по пользователям ---\n",
    "\n",
    "    \n",
    "# Выбираем 10% случайных пользователей\n",
    "all_user_ids = events_full['user_id'].unique()\n",
    "sampled_user_ids = np.random.choice(\n",
    "    all_user_ids,\n",
    "    size=int(len(all_user_ids) * 0.10), # <--- Вот наш лимит 10%\n",
    "    replace=False\n",
    ")\n",
    "    \n",
    "# Фильтруем взаимодействия, оставляя только выбранных пользователей\n",
    "events = events_full[events_full['user_id'].isin(sampled_user_ids)].copy()\n",
    "    \n",
    "# Фильтруем каталог треков, чтобы он соответствовал нашей выборке\n",
    "active_items_in_sample = events['item_id'].unique()\n",
    "items = items_full[items_full['item_id'].isin(active_items_in_sample)].copy()\n",
    "    \n",
    "# --- 3. Очищаем память ---\n",
    "print(\"Очищаем память от полных датафреймов...\")\n",
    "del items_full, events_full\n",
    "import gc\n",
    "gc.collect()\n",
    "\n",
    "print(f\"Количество пользователей в выборке: {len(sampled_user_ids):,}\")\n",
    "print(f\"Количество взаимодействий в выборке: {len(events):,}\")\n",
    "print(f\"Количество треков в выборке: {len(items):,}\")"
   ]
  },
  {
   "cell_type": "markdown",
   "id": "a694c023-6477-490b-939d-1cfa6f5f1b72",
   "metadata": {},
   "source": [
    "# Разбиение данных"
   ]
  },
  {
   "cell_type": "markdown",
   "id": "fbd5f6e0-54e7-4428-8678-eabce505d82c",
   "metadata": {},
   "source": [
    "Разбиваем данные на тренировочную, тестовую выборки."
   ]
  },
  {
   "cell_type": "code",
   "execution_count": 6,
   "id": "00c2dfa5-d8a2-47d1-922e-6eefee2c62d1",
   "metadata": {},
   "outputs": [],
   "source": [
    "train_test_split_date = pd.to_datetime(\"2022-12-16\")\n",
    "\n",
    "train = events[events['started_at'] < train_test_split_date]\n",
    "test = events[events['started_at'] >= train_test_split_date]"
   ]
  },
  {
   "cell_type": "code",
   "execution_count": 8,
   "id": "26fe3e3c-8c5f-4437-bf13-9191adef08bb",
   "metadata": {},
   "outputs": [
    {
     "name": "stdout",
     "output_type": "stream",
     "text": [
      "Количество взаимодействий в train: 20841772\n",
      "Количество взаимодействий в test: 1383554\n",
      "Доля train: 93.77%\n",
      "Доля test: 6.23%\n"
     ]
    }
   ],
   "source": [
    "print(f\"Количество взаимодействий в train: {len(train)}\")\n",
    "print(f\"Количество взаимодействий в test: {len(test)}\")\n",
    "print(f\"Доля train: {len(train) / len(events):.2%}\")\n",
    "print(f\"Доля test: {len(test) / len(events):.2%}\")"
   ]
  },
  {
   "cell_type": "markdown",
   "id": "9131c7e6-8852-4556-b510-51f7253cc299",
   "metadata": {},
   "source": [
    "# Топ популярных"
   ]
  },
  {
   "cell_type": "markdown",
   "id": "dd70d43a-88cc-4719-b291-feaed7136f30",
   "metadata": {},
   "source": [
    "Рассчитаем рекомендации как топ популярных."
   ]
  },
  {
   "cell_type": "code",
   "execution_count": 24,
   "id": "ee45e200-b7d6-4f56-9077-aad431689b96",
   "metadata": {},
   "outputs": [
    {
     "name": "stdout",
     "output_type": "stream",
     "text": [
      "Топ-10 популярных треков:\n",
      "    item_id  popularity  rank\n",
      "0     53404       10906     1\n",
      "1    178529       10147     2\n",
      "2  33311009       10139     3\n",
      "3  35505245        9502     4\n",
      "4  24692821        8450     5\n",
      "5    795836        8288     6\n",
      "6   6705392        8132     7\n",
      "7  32947997        8002     8\n",
      "8  51241318        7979     9\n",
      "9     37384        7933    10\n"
     ]
    }
   ],
   "source": [
    "# Считаем популярность треков в train\n",
    "top_popular = train['item_id'].value_counts().reset_index()\n",
    "top_popular.columns = ['item_id', 'popularity']\n",
    "\n",
    "# Добавим ранг\n",
    "top_popular['rank'] = top_popular.index + 1\n",
    "\n",
    "print(\"Топ-10 популярных треков:\")\n",
    "print(top_popular.head(10))"
   ]
  },
  {
   "cell_type": "code",
   "execution_count": 10,
   "id": "7690c86f-7aa9-46ed-bba5-2c837626411e",
   "metadata": {},
   "outputs": [],
   "source": [
    "# Сохраняем в S3\n",
    "top_popular.to_parquet(f's3://{S3_BUCKET_NAME}/recsys/recommendations/top_popular.parquet', storage_options=storage_options)"
   ]
  },
  {
   "cell_type": "markdown",
   "id": "2ad231f2-6158-421a-b7fa-01d8bc3ed572",
   "metadata": {},
   "source": [
    "# Персональные"
   ]
  },
  {
   "cell_type": "markdown",
   "id": "86159460-cd9d-4b63-8248-604ea3c9aebf",
   "metadata": {},
   "source": [
    "Рассчитаем персональные рекомендации."
   ]
  },
  {
   "cell_type": "code",
   "execution_count": 13,
   "id": "d2944822-569c-4f9b-82dc-70a7fa2d542e",
   "metadata": {},
   "outputs": [
    {
     "name": "stderr",
     "output_type": "stream",
     "text": [
      "/tmp/ipykernel_3137/3527816592.py:10: SettingWithCopyWarning: \n",
      "A value is trying to be set on a copy of a slice from a DataFrame.\n",
      "Try using .loc[row_indexer,col_indexer] = value instead\n",
      "\n",
      "See the caveats in the documentation: https://pandas.pydata.org/pandas-docs/stable/user_guide/indexing.html#returning-a-view-versus-a-copy\n",
      "  train['user_id_enc'] = user_encoder.fit_transform(train['user_id'])\n",
      "/tmp/ipykernel_3137/3527816592.py:13: SettingWithCopyWarning: \n",
      "A value is trying to be set on a copy of a slice from a DataFrame.\n",
      "Try using .loc[row_indexer,col_indexer] = value instead\n",
      "\n",
      "See the caveats in the documentation: https://pandas.pydata.org/pandas-docs/stable/user_guide/indexing.html#returning-a-view-versus-a-copy\n",
      "  train['item_id_enc'] = item_encoder.transform(train['item_id'])\n"
     ]
    }
   ],
   "source": [
    "# --- Кодирование ID ---\n",
    "# обучаем кодировщики на всех данных (events), чтобы все ID были известны\n",
    "user_encoder = LabelEncoder()\n",
    "item_encoder = LabelEncoder()\n",
    "\n",
    "user_encoder.fit(events['user_id'])\n",
    "item_encoder.fit(items['item_id']) # Используем items, чтобы закодировать все возможные треки\n",
    "\n",
    "# Применяем кодировщики к train\n",
    "train['user_id_enc'] = user_encoder.fit_transform(train['user_id'])\n",
    "# Обучаем на всех известных треках, чтобы обработать те, что могут появиться только в тесте\n",
    "item_encoder.fit(items['item_id'])\n",
    "train['item_id_enc'] = item_encoder.transform(train['item_id'])\n",
    "\n",
    "# Создаем разреженную матрицу user-item\n",
    "user_item_matrix = csr_matrix(\n",
    "    (np.ones(len(train)), (train['user_id_enc'], train['item_id_enc']))\n",
    ")"
   ]
  },
  {
   "cell_type": "code",
   "execution_count": 14,
   "id": "1e8cdb58-3a8c-45ad-8e5f-7f950314aa56",
   "metadata": {},
   "outputs": [
    {
     "name": "stderr",
     "output_type": "stream",
     "text": [
      "/home/mle-user/mle-project-sprint-4-v001/.venv/lib/python3.10/site-packages/implicit/cpu/als.py:95: RuntimeWarning: OpenBLAS is configured to use 4 threads. It is highly recommended to disable its internal threadpool by setting the environment variable 'OPENBLAS_NUM_THREADS=1' or by calling 'threadpoolctl.threadpool_limits(1, \"blas\")'. Having OpenBLAS use a threadpool can lead to severe performance issues here.\n",
      "  check_blas_config()\n"
     ]
    },
    {
     "data": {
      "application/vnd.jupyter.widget-view+json": {
       "model_id": "c6918ad0769145b7a88a186741fe97f9",
       "version_major": 2,
       "version_minor": 0
      },
      "text/plain": [
       "  0%|          | 0/15 [00:00<?, ?it/s]"
      ]
     },
     "metadata": {},
     "output_type": "display_data"
    }
   ],
   "source": [
    "# --- Обучение модели ALS ---\n",
    "als_model = AlternatingLeastSquares(factors=64, regularization=0.01, iterations=15, random_state=42)\n",
    "als_model.fit(user_item_matrix)"
   ]
  },
  {
   "cell_type": "code",
   "execution_count": 15,
   "id": "f05dbacf",
   "metadata": {},
   "outputs": [],
   "source": [
    "# получаем список всех возможных user_id (перекодированных)\n",
    "user_ids_encoded = range(len(user_encoder.classes_))\n",
    "\n",
    "# получаем рекомендации для всех пользователей\n",
    "als_recommendations = als_model.recommend(\n",
    "    user_ids_encoded, \n",
    "    user_item_matrix[user_ids_encoded],  \n",
    "    filter_already_liked_items=False, N=100)"
   ]
  },
  {
   "cell_type": "code",
   "execution_count": 16,
   "id": "3b514093",
   "metadata": {},
   "outputs": [],
   "source": [
    "# преобразуем полученные рекомендации в табличный формат\n",
    "item_ids_enc = als_recommendations[0]\n",
    "als_scores = als_recommendations[1]\n",
    "\n",
    "als_recommendations = pd.DataFrame({\n",
    "    \"user_id_enc\": user_ids_encoded,\n",
    "    \"item_id_enc\": item_ids_enc.tolist(), \n",
    "    \"score\": als_scores.tolist()})\n",
    "als_recommendations = als_recommendations.explode([\"item_id_enc\", \"score\"], ignore_index=True)\n",
    "\n",
    "# приводим типы данных\n",
    "als_recommendations[\"item_id_enc\"] = als_recommendations[\"item_id_enc\"].astype(\"int\")\n",
    "als_recommendations[\"score\"] = als_recommendations[\"score\"].astype(\"float\")\n",
    "\n",
    "# получаем изначальные идентификаторы\n",
    "als_recommendations[\"user_id\"] = user_encoder.inverse_transform(als_recommendations[\"user_id_enc\"])\n",
    "als_recommendations[\"item_id\"] = item_encoder.inverse_transform(als_recommendations[\"item_id_enc\"])\n",
    "als_recommendations = als_recommendations.drop(columns=[\"user_id_enc\", \"item_id_enc\"])\n",
    "\n",
    "als_recommendations = als_recommendations[[\"user_id\", \"item_id\", \"score\"]]"
   ]
  },
  {
   "cell_type": "code",
   "execution_count": null,
   "id": "19766a9b",
   "metadata": {},
   "outputs": [],
   "source": [
    "# Сохраняем в S3\n",
    "als_recommendations[['user_id', 'item_id', 'score']].to_parquet(\n",
    "    f's3://{S3_BUCKET_NAME}/recsys/recommendations/personal_als.parquet', storage_options=storage_options\n",
    ")"
   ]
  },
  {
   "cell_type": "markdown",
   "id": "5f09dc7e-7c91-4355-860a-b9cfb9f33f15",
   "metadata": {},
   "source": [
    "# Похожие"
   ]
  },
  {
   "cell_type": "markdown",
   "id": "1dfcb683-b440-40a8-9975-894156a53872",
   "metadata": {},
   "source": [
    "Рассчитаем похожие, они позже пригодятся для онлайн-рекомендаций."
   ]
  },
  {
   "cell_type": "code",
   "execution_count": null,
   "id": "a75d07ee-4b12-4ce5-aa85-e45cb7a7a4f0",
   "metadata": {},
   "outputs": [
    {
     "name": "stdout",
     "output_type": "stream",
     "text": [
      "Таблица похожих товаров готова:\n"
     ]
    },
    {
     "data": {
      "text/html": [
       "<div>\n",
       "<style scoped>\n",
       "    .dataframe tbody tr th:only-of-type {\n",
       "        vertical-align: middle;\n",
       "    }\n",
       "\n",
       "    .dataframe tbody tr th {\n",
       "        vertical-align: top;\n",
       "    }\n",
       "\n",
       "    .dataframe thead th {\n",
       "        text-align: right;\n",
       "    }\n",
       "</style>\n",
       "<table border=\"1\" class=\"dataframe\">\n",
       "  <thead>\n",
       "    <tr style=\"text-align: right;\">\n",
       "      <th></th>\n",
       "      <th>score</th>\n",
       "      <th>item_id_1</th>\n",
       "      <th>item_id_2</th>\n",
       "    </tr>\n",
       "  </thead>\n",
       "  <tbody>\n",
       "    <tr>\n",
       "      <th>1</th>\n",
       "      <td>0.887734</td>\n",
       "      <td>264937</td>\n",
       "      <td>2840</td>\n",
       "    </tr>\n",
       "    <tr>\n",
       "      <th>2</th>\n",
       "      <td>0.885356</td>\n",
       "      <td>264937</td>\n",
       "      <td>17370703</td>\n",
       "    </tr>\n",
       "    <tr>\n",
       "      <th>3</th>\n",
       "      <td>0.882651</td>\n",
       "      <td>264937</td>\n",
       "      <td>264942</td>\n",
       "    </tr>\n",
       "    <tr>\n",
       "      <th>4</th>\n",
       "      <td>0.876652</td>\n",
       "      <td>264937</td>\n",
       "      <td>324444</td>\n",
       "    </tr>\n",
       "    <tr>\n",
       "      <th>5</th>\n",
       "      <td>0.869285</td>\n",
       "      <td>264937</td>\n",
       "      <td>20069591</td>\n",
       "    </tr>\n",
       "  </tbody>\n",
       "</table>\n",
       "</div>"
      ],
      "text/plain": [
       "      score  item_id_1  item_id_2\n",
       "1  0.887734     264937       2840\n",
       "2  0.885356     264937   17370703\n",
       "3  0.882651     264937     264942\n",
       "4  0.876652     264937     324444\n",
       "5  0.869285     264937   20069591"
      ]
     },
     "metadata": {},
     "output_type": "display_data"
    }
   ],
   "source": [
    "# получим энкодированные идентификаторы всех объектов, известных нам из events_train\n",
    "train_item_ids_enc = train['item_id_enc'].unique()\n",
    "\n",
    "max_similar_items = 10\n",
    "\n",
    "# получаем списки похожих объектов, используя ранее полученную ALS-модель\n",
    "# метод similar_items возвращает и сам объект, как наиболее похожий\n",
    "# этот объект мы позже отфильтруем, но сейчас запросим на 1 больше\n",
    "similar_items = als_model.similar_items(train_item_ids_enc, N=max_similar_items+1)\n",
    "\n",
    "# преобразуем полученные списки в табличный формат\n",
    "sim_item_item_ids_enc = similar_items[0]\n",
    "sim_item_scores = similar_items[1]\n",
    "\n",
    "similar_items = pd.DataFrame({\n",
    "    \"item_id_enc\": train_item_ids_enc,\n",
    "    \"sim_item_id_enc\": sim_item_item_ids_enc.tolist(), \n",
    "    \"score\": sim_item_scores.tolist()\n",
    "})\n",
    "# \"Взрываем\" списки, чтобы каждая пара была в отдельной строке\n",
    "similar_items = similar_items.explode([\"sim_item_id_enc\", \"score\"], ignore_index=True)\n",
    "\n",
    "# приводим типы данных\n",
    "similar_items[\"sim_item_id_enc\"] = similar_items[\"sim_item_id_enc\"].astype(\"int\")\n",
    "similar_items[\"score\"] = similar_items[\"score\"].astype(\"float\")\n",
    "\n",
    "# получаем изначальные идентификаторы\n",
    "similar_items[\"item_id_1\"] = item_encoder.inverse_transform(similar_items[\"item_id_enc\"])\n",
    "similar_items[\"item_id_2\"] = item_encoder.inverse_transform(similar_items[\"sim_item_id_enc\"])\n",
    "similar_items = similar_items.drop(columns=[\"item_id_enc\", \"sim_item_id_enc\"])\n",
    "\n",
    "# убираем пары с одинаковыми объектами\n",
    "similar_items = similar_items.query(\"item_id_1 != item_id_2\")\n",
    "\n",
    "print(\"Таблица похожих товаров:\")\n",
    "display(similar_items.head())"
   ]
  },
  {
   "cell_type": "code",
   "execution_count": 20,
   "id": "ce370904-4c49-4152-8706-416074ea9b9a",
   "metadata": {},
   "outputs": [],
   "source": [
    "similar_items[['item_id_1', 'item_id_2', 'score']].to_parquet(\n",
    "    f's3://{S3_BUCKET_NAME}/recsys/recommendations/similar.parquet', storage_options=storage_options\n",
    ")"
   ]
  },
  {
   "cell_type": "markdown",
   "id": "0087a3e7-ca9f-42cd-944c-944222c1baef",
   "metadata": {},
   "source": [
    "# Построение признаков"
   ]
  },
  {
   "cell_type": "markdown",
   "id": "e82a32e1-b90b-4eaf-9439-fc8deab9f34b",
   "metadata": {},
   "source": [
    "Построим три признака, можно больше, для ранжирующей модели."
   ]
  },
  {
   "cell_type": "code",
   "execution_count": 3,
   "id": "05b4ae84-406a-44a4-abec-4f80f93e3004",
   "metadata": {},
   "outputs": [],
   "source": [
    "# --- Подготовка кандидатов ---\n",
    "# Персональные ALS\n",
    "# Загружаем сохраненные ранее рекомендации\n",
    "als_recommendations = pd.read_parquet(\n",
    "    f's3://{S3_BUCKET_NAME}/recsys/recommendations/personal_als.parquet', \n",
    "    storage_options=storage_options\n",
    ")\n",
    "# Берем кандидатов от ALS\n",
    "candidates = als_recommendations.copy()"
   ]
  },
  {
   "cell_type": "code",
   "execution_count": 7,
   "id": "5099f63f",
   "metadata": {},
   "outputs": [],
   "source": [
    "# Признак 1: Популярность трека\n",
    "item_popularity = train['item_id'].value_counts().rename('item_pop').reset_index().rename(columns={'index': 'item_id'})\n",
    "candidates = candidates.merge(item_popularity, on='item_id', how='left').fillna(0)"
   ]
  },
  {
   "cell_type": "code",
   "execution_count": 8,
   "id": "4bae2f82",
   "metadata": {},
   "outputs": [],
   "source": [
    "# Признак 2: Активность пользователя\n",
    "user_activity = train['user_id'].value_counts().rename('user_act').reset_index().rename(columns={'index': 'user_id'})\n",
    "candidates = candidates.merge(user_activity, on='user_id', how='left').fillna(0)"
   ]
  },
  {
   "cell_type": "code",
   "execution_count": null,
   "id": "df8f860c",
   "metadata": {},
   "outputs": [
    {
     "name": "stdout",
     "output_type": "stream",
     "text": [
      "Признак 'genre_affinity' добавлен.\n"
     ]
    },
    {
     "data": {
      "text/html": [
       "<div>\n",
       "<style scoped>\n",
       "    .dataframe tbody tr th:only-of-type {\n",
       "        vertical-align: middle;\n",
       "    }\n",
       "\n",
       "    .dataframe tbody tr th {\n",
       "        vertical-align: top;\n",
       "    }\n",
       "\n",
       "    .dataframe thead th {\n",
       "        text-align: right;\n",
       "    }\n",
       "</style>\n",
       "<table border=\"1\" class=\"dataframe\">\n",
       "  <thead>\n",
       "    <tr style=\"text-align: right;\">\n",
       "      <th></th>\n",
       "      <th>user_id</th>\n",
       "      <th>item_id</th>\n",
       "      <th>score</th>\n",
       "      <th>item_pop</th>\n",
       "      <th>user_act</th>\n",
       "      <th>artist_affinity</th>\n",
       "      <th>genre_affinity</th>\n",
       "    </tr>\n",
       "  </thead>\n",
       "  <tbody>\n",
       "    <tr>\n",
       "      <th>0</th>\n",
       "      <td>2</td>\n",
       "      <td>178495</td>\n",
       "      <td>0.015815</td>\n",
       "      <td>5957</td>\n",
       "      <td>0.0</td>\n",
       "      <td>0.0</td>\n",
       "      <td>0.0</td>\n",
       "    </tr>\n",
       "    <tr>\n",
       "      <th>1</th>\n",
       "      <td>2</td>\n",
       "      <td>672687</td>\n",
       "      <td>0.014714</td>\n",
       "      <td>3399</td>\n",
       "      <td>0.0</td>\n",
       "      <td>0.0</td>\n",
       "      <td>0.0</td>\n",
       "    </tr>\n",
       "    <tr>\n",
       "      <th>2</th>\n",
       "      <td>2</td>\n",
       "      <td>646516</td>\n",
       "      <td>0.014478</td>\n",
       "      <td>4035</td>\n",
       "      <td>0.0</td>\n",
       "      <td>0.0</td>\n",
       "      <td>0.0</td>\n",
       "    </tr>\n",
       "    <tr>\n",
       "      <th>3</th>\n",
       "      <td>2</td>\n",
       "      <td>96064</td>\n",
       "      <td>0.014241</td>\n",
       "      <td>3663</td>\n",
       "      <td>0.0</td>\n",
       "      <td>0.0</td>\n",
       "      <td>0.0</td>\n",
       "    </tr>\n",
       "    <tr>\n",
       "      <th>4</th>\n",
       "      <td>2</td>\n",
       "      <td>672689</td>\n",
       "      <td>0.014045</td>\n",
       "      <td>2683</td>\n",
       "      <td>0.0</td>\n",
       "      <td>0.0</td>\n",
       "      <td>0.0</td>\n",
       "    </tr>\n",
       "  </tbody>\n",
       "</table>\n",
       "</div>"
      ],
      "text/plain": [
       "   user_id  item_id     score  item_pop  user_act  artist_affinity  \\\n",
       "0        2   178495  0.015815      5957       0.0              0.0   \n",
       "1        2   672687  0.014714      3399       0.0              0.0   \n",
       "2        2   646516  0.014478      4035       0.0              0.0   \n",
       "3        2    96064  0.014241      3663       0.0              0.0   \n",
       "4        2   672689  0.014045      2683       0.0              0.0   \n",
       "\n",
       "   genre_affinity  \n",
       "0             0.0  \n",
       "1             0.0  \n",
       "2             0.0  \n",
       "3             0.0  \n",
       "4             0.0  "
      ]
     },
     "metadata": {},
     "output_type": "display_data"
    }
   ],
   "source": [
    "# --- Подготовка данных для расчета предпочтения ---\n",
    "\n",
    "# Объединяем взаимодействия с метаданными треков\n",
    "train_with_meta = train.merge(items[['item_id', 'artists', 'genres']], on='item_id')\n",
    "\n",
    "# \"Взрываем\" списки артистов и жанров\n",
    "train_artists = train_with_meta.explode('artists')\n",
    "train_genres = train_with_meta.explode('genres')\n",
    "\n",
    "# --- Признак 4: Предпочтение пользователя к артистам трека ---\n",
    "\n",
    "# Считаем, сколько раз каждый пользователь слушал каждого артиста\n",
    "user_artist_affinity = train_artists.groupby(['user_id', 'artists']).size().rename('artist_affinity').reset_index()\n",
    "\n",
    "# Обогащаем кандидатов информацией об артистах\n",
    "candidates_with_artists = candidates.merge(items[['item_id', 'artists']], on='item_id').explode('artists')\n",
    "\n",
    "# Присоединяем предпочтение к кандидатам\n",
    "candidates_with_artists = candidates_with_artists.merge(user_artist_affinity, on=['user_id', 'artists'], how='left').fillna(0)\n",
    "\n",
    "# Для каждого трека у кандидата берем МАКСИМАЛЬНОЕ предпочтение по всем его артистам\n",
    "# Это сильный сигнал: если пользователь любит хотя бы одного из исполнителей, это важно\n",
    "artist_affinity_feature = candidates_with_artists.groupby(['user_id', 'item_id'])['artist_affinity'].max().reset_index()\n",
    "\n",
    "# Добавляем новый признак в основной датафрейм кандидатов\n",
    "candidates = candidates.merge(artist_affinity_feature, on=['user_id', 'item_id'], how='left')\n",
    "\n",
    "# --- Признак 5: Предпочтение пользователя к жанрам трека ---\n",
    "\n",
    "# Считаем, сколько раз каждый пользователь слушал каждый жанр\n",
    "user_genre_affinity = train_genres.groupby(['user_id', 'genres']).size().rename('genre_affinity').reset_index()\n",
    "\n",
    "# Обогащаем кандидатов информацией о жанрах\n",
    "candidates_with_genres = candidates.merge(items[['item_id', 'genres']], on='item_id').explode('genres')\n",
    "\n",
    "# Присоединяем предпочтение к кандидатам\n",
    "candidates_with_genres = candidates_with_genres.merge(user_genre_affinity, on=['user_id', 'genres'], how='left').fillna(0)\n",
    "\n",
    "# Аналогично, берем максимальное предпочтение по жанрам\n",
    "genre_affinity_feature = candidates_with_genres.groupby(['user_id', 'item_id'])['genre_affinity'].max().reset_index()\n",
    "\n",
    "# Добавляем новый признак\n",
    "candidates = candidates.merge(genre_affinity_feature, on=['user_id', 'item_id'], how='left')\n",
    "\n",
    "display(candidates.head())"
   ]
  },
  {
   "cell_type": "code",
   "execution_count": 10,
   "id": "ff888b1b",
   "metadata": {},
   "outputs": [
    {
     "name": "stdout",
     "output_type": "stream",
     "text": [
      "751500\n"
     ]
    }
   ],
   "source": [
    "# оставляем только тех пользователей, что есть в тестовой выборке, для экономии ресурсов\n",
    "candidates_to_rank = candidates[candidates[\"user_id\"].isin(test[\"user_id\"].drop_duplicates())]\n",
    "print(len(candidates_to_rank)) "
   ]
  },
  {
   "cell_type": "markdown",
   "id": "47bcf88d-b236-46f0-a6f3-38ddd64895fe",
   "metadata": {},
   "source": [
    "# Ранжирование рекомендаций"
   ]
  },
  {
   "cell_type": "markdown",
   "id": "e8cd8223-3418-4493-8c87-1f76286ebda0",
   "metadata": {},
   "source": [
    "Построим ранжирующую модель, чтобы сделать рекомендации более точными. Отранжируем рекомендации."
   ]
  },
  {
   "cell_type": "code",
   "execution_count": 11,
   "id": "d1b58cb8",
   "metadata": {},
   "outputs": [],
   "source": [
    "# --- Создание обучающих данных для ранжировщика ---\n",
    "# Добавляем таргет (1, если взаимодействие было в train)\n",
    "train_interactions = train[['user_id', 'item_id']].drop_duplicates()\n",
    "train_interactions['target'] = 1\n",
    "\n",
    "# Объединяем с полным списком кандидатов\n",
    "training_data_for_ranker = candidates.merge(\n",
    "    train_interactions,\n",
    "    on=['user_id', 'item_id'],\n",
    "    how='left'\n",
    ").fillna({'target': 0})"
   ]
  },
  {
   "cell_type": "code",
   "execution_count": 12,
   "id": "79f1dd92-32a9-463d-827e-8bb9ee5bbb54",
   "metadata": {},
   "outputs": [],
   "source": [
    "# Негативное семплирование\n",
    "positives = training_data_for_ranker[training_data_for_ranker['target'] == 1]\n",
    "negatives = training_data_for_ranker[training_data_for_ranker['target'] == 0]\n",
    "# Выбираем в 4 раза больше негативных примеров, чем позитивных\n",
    "negatives_sampled = negatives.sample(n=len(positives) * 4, random_state=42)\n",
    "final_training_data = pd.concat([positives, negatives_sampled]).sample(frac=1) # Перемешиваем"
   ]
  },
  {
   "cell_type": "code",
   "execution_count": 13,
   "id": "7f4ecf44",
   "metadata": {},
   "outputs": [
    {
     "data": {
      "text/html": [
       "<div>\n",
       "<style scoped>\n",
       "    .dataframe tbody tr th:only-of-type {\n",
       "        vertical-align: middle;\n",
       "    }\n",
       "\n",
       "    .dataframe tbody tr th {\n",
       "        vertical-align: top;\n",
       "    }\n",
       "\n",
       "    .dataframe thead th {\n",
       "        text-align: right;\n",
       "    }\n",
       "</style>\n",
       "<table border=\"1\" class=\"dataframe\">\n",
       "  <thead>\n",
       "    <tr style=\"text-align: right;\">\n",
       "      <th></th>\n",
       "      <th>user_id</th>\n",
       "      <th>item_id</th>\n",
       "      <th>score</th>\n",
       "      <th>item_pop</th>\n",
       "      <th>user_act</th>\n",
       "      <th>artist_affinity</th>\n",
       "      <th>genre_affinity</th>\n",
       "      <th>target</th>\n",
       "    </tr>\n",
       "  </thead>\n",
       "  <tbody>\n",
       "    <tr>\n",
       "      <th>11757287</th>\n",
       "      <td>1205893</td>\n",
       "      <td>58910038</td>\n",
       "      <td>0.204477</td>\n",
       "      <td>880</td>\n",
       "      <td>252.0</td>\n",
       "      <td>1.0</td>\n",
       "      <td>120.0</td>\n",
       "      <td>1.0</td>\n",
       "    </tr>\n",
       "    <tr>\n",
       "      <th>2230887</th>\n",
       "      <td>229759</td>\n",
       "      <td>43525</td>\n",
       "      <td>0.008000</td>\n",
       "      <td>423</td>\n",
       "      <td>0.0</td>\n",
       "      <td>0.0</td>\n",
       "      <td>0.0</td>\n",
       "      <td>0.0</td>\n",
       "    </tr>\n",
       "    <tr>\n",
       "      <th>5782636</th>\n",
       "      <td>594060</td>\n",
       "      <td>63788</td>\n",
       "      <td>0.331634</td>\n",
       "      <td>1847</td>\n",
       "      <td>0.0</td>\n",
       "      <td>0.0</td>\n",
       "      <td>0.0</td>\n",
       "      <td>0.0</td>\n",
       "    </tr>\n",
       "    <tr>\n",
       "      <th>4765684</th>\n",
       "      <td>489780</td>\n",
       "      <td>906927</td>\n",
       "      <td>0.024433</td>\n",
       "      <td>1461</td>\n",
       "      <td>0.0</td>\n",
       "      <td>0.0</td>\n",
       "      <td>0.0</td>\n",
       "      <td>0.0</td>\n",
       "    </tr>\n",
       "    <tr>\n",
       "      <th>6507636</th>\n",
       "      <td>669624</td>\n",
       "      <td>24500432</td>\n",
       "      <td>0.042056</td>\n",
       "      <td>1411</td>\n",
       "      <td>0.0</td>\n",
       "      <td>0.0</td>\n",
       "      <td>0.0</td>\n",
       "      <td>0.0</td>\n",
       "    </tr>\n",
       "  </tbody>\n",
       "</table>\n",
       "</div>"
      ],
      "text/plain": [
       "          user_id   item_id     score  item_pop  user_act  artist_affinity  \\\n",
       "11757287  1205893  58910038  0.204477       880     252.0              1.0   \n",
       "2230887    229759     43525  0.008000       423       0.0              0.0   \n",
       "5782636    594060     63788  0.331634      1847       0.0              0.0   \n",
       "4765684    489780    906927  0.024433      1461       0.0              0.0   \n",
       "6507636    669624  24500432  0.042056      1411       0.0              0.0   \n",
       "\n",
       "          genre_affinity  target  \n",
       "11757287           120.0     1.0  \n",
       "2230887              0.0     0.0  \n",
       "5782636              0.0     0.0  \n",
       "4765684              0.0     0.0  \n",
       "6507636              0.0     0.0  "
      ]
     },
     "execution_count": 13,
     "metadata": {},
     "output_type": "execute_result"
    }
   ],
   "source": [
    "final_training_data.head()"
   ]
  },
  {
   "cell_type": "code",
   "execution_count": 16,
   "id": "eb4c51cb",
   "metadata": {},
   "outputs": [],
   "source": [
    "from catboost import CatBoostClassifier, Pool\n",
    "\n",
    "# Обучение ранжировщика CatBoost\n",
    "features = ['item_pop', 'user_act', 'artist_affinity', 'genre_affinity']\n",
    "target = 'target'\n",
    "train_pool = Pool(data=final_training_data[features], label=final_training_data[target])"
   ]
  },
  {
   "cell_type": "code",
   "execution_count": 17,
   "id": "c1624dad",
   "metadata": {},
   "outputs": [
    {
     "name": "stdout",
     "output_type": "stream",
     "text": [
      "0:\tlearn: 0.3538817\ttotal: 154ms\tremaining: 30.6s\n",
      "50:\tlearn: 0.0512328\ttotal: 5.5s\tremaining: 16.1s\n",
      "100:\tlearn: 0.0509380\ttotal: 10.7s\tremaining: 10.5s\n",
      "150:\tlearn: 0.0506724\ttotal: 16s\tremaining: 5.2s\n",
      "199:\tlearn: 0.0504772\ttotal: 21.5s\tremaining: 0us\n"
     ]
    },
    {
     "data": {
      "text/plain": [
       "<catboost.core.CatBoostClassifier at 0x7f4ed5fc4850>"
      ]
     },
     "execution_count": 17,
     "metadata": {},
     "output_type": "execute_result"
    }
   ],
   "source": [
    "cb_model = CatBoostClassifier(iterations=200, learning_rate=0.1, depth=6, verbose=50, random_seed=42)\n",
    "cb_model.fit(train_pool)"
   ]
  },
  {
   "cell_type": "code",
   "execution_count": 18,
   "id": "0d4d3a39",
   "metadata": {},
   "outputs": [],
   "source": [
    "# Применение ранжировщика (Inference)\n",
    "candidates['rank'] = cb_model.predict_proba(candidates[features])[:, 1]\n",
    "candidates = candidates.sort_values(['user_id', 'rank'], ascending=[True, False])"
   ]
  },
  {
   "cell_type": "code",
   "execution_count": 19,
   "id": "428a5ddf",
   "metadata": {},
   "outputs": [
    {
     "data": {
      "text/html": [
       "<div>\n",
       "<style scoped>\n",
       "    .dataframe tbody tr th:only-of-type {\n",
       "        vertical-align: middle;\n",
       "    }\n",
       "\n",
       "    .dataframe tbody tr th {\n",
       "        vertical-align: top;\n",
       "    }\n",
       "\n",
       "    .dataframe thead th {\n",
       "        text-align: right;\n",
       "    }\n",
       "</style>\n",
       "<table border=\"1\" class=\"dataframe\">\n",
       "  <thead>\n",
       "    <tr style=\"text-align: right;\">\n",
       "      <th></th>\n",
       "      <th>user_id</th>\n",
       "      <th>item_id</th>\n",
       "    </tr>\n",
       "  </thead>\n",
       "  <tbody>\n",
       "    <tr>\n",
       "      <th>0</th>\n",
       "      <td>2</td>\n",
       "      <td>[53404, 6705392, 37384, 328683, 178529, 296114...</td>\n",
       "    </tr>\n",
       "    <tr>\n",
       "      <th>1</th>\n",
       "      <td>10</td>\n",
       "      <td>[35505245, 45499814, 39257277, 18385776, 51516...</td>\n",
       "    </tr>\n",
       "    <tr>\n",
       "      <th>2</th>\n",
       "      <td>32</td>\n",
       "      <td>[53404, 65851540, 47627256, 33311009, 18385776...</td>\n",
       "    </tr>\n",
       "    <tr>\n",
       "      <th>3</th>\n",
       "      <td>33</td>\n",
       "      <td>[328683, 60292250, 178529, 178495, 2808296, 14...</td>\n",
       "    </tr>\n",
       "    <tr>\n",
       "      <th>4</th>\n",
       "      <td>34</td>\n",
       "      <td>[51241318, 32947997, 24692821, 795836, 2954427...</td>\n",
       "    </tr>\n",
       "  </tbody>\n",
       "</table>\n",
       "</div>"
      ],
      "text/plain": [
       "   user_id                                            item_id\n",
       "0        2  [53404, 6705392, 37384, 328683, 178529, 296114...\n",
       "1       10  [35505245, 45499814, 39257277, 18385776, 51516...\n",
       "2       32  [53404, 65851540, 47627256, 33311009, 18385776...\n",
       "3       33  [328683, 60292250, 178529, 178495, 2808296, 14...\n",
       "4       34  [51241318, 32947997, 24692821, 795836, 2954427..."
      ]
     },
     "metadata": {},
     "output_type": "display_data"
    }
   ],
   "source": [
    "recommendations = candidates.groupby('user_id')['item_id'].apply(list).reset_index()\n",
    "display(recommendations.head())"
   ]
  },
  {
   "cell_type": "code",
   "execution_count": 21,
   "id": "6dbe4db4-1ac5-44da-a13c-8e7f9768ab73",
   "metadata": {},
   "outputs": [],
   "source": [
    "# --- Сохранение ---\n",
    "candidates[['user_id', 'item_id', 'rank']].to_parquet(\n",
    "    f's3://{S3_BUCKET_NAME}/recsys/recommendations/recommendations.parquet', storage_options=storage_options\n",
    ")"
   ]
  },
  {
   "cell_type": "markdown",
   "id": "b3c84071-45b5-4a15-a683-e0ab034a3128",
   "metadata": {},
   "source": [
    "# Оценка качества"
   ]
  },
  {
   "cell_type": "markdown",
   "id": "1b107fe4-554e-42b1-87d9-c435a52bb77a",
   "metadata": {},
   "source": [
    "Проверим оценку качества трёх типов рекомендаций: \n",
    "\n",
    "- топ популярных,\n",
    "- персональных, полученных при помощи ALS,\n",
    "- итоговых\n",
    "  \n",
    "по четырем метрикам: recall, precision, coverage, novelty."
   ]
  },
  {
   "cell_type": "code",
   "execution_count": 22,
   "id": "94d6f388-aecb-443e-8647-14014e932d4d",
   "metadata": {},
   "outputs": [],
   "source": [
    "K = 10 # Будем считать метрики для топ-10\n",
    "\n",
    "# Готовим ground truth (реальные прослушивания в test)\n",
    "test_user_items = test.groupby('user_id')['item_id'].apply(list).to_dict()\n",
    "all_items = items['item_id'].unique()\n",
    "item_popularity_map = train['item_id'].value_counts(normalize=True)\n",
    "\n",
    "def precision_at_k(recs_df, gt_dict, k):\n",
    "    user_precisions = []\n",
    "    for user_id, user_recs in recs_df.groupby('user_id'):\n",
    "        if user_id in gt_dict:\n",
    "            recs_k = user_recs.head(k)['item_id'].tolist()\n",
    "            gt = gt_dict[user_id]\n",
    "            hits = len(set(recs_k) & set(gt))\n",
    "            user_precisions.append(hits / k)\n",
    "    return np.mean(user_precisions) if user_precisions else 0\n",
    "\n",
    "def recall_at_k(recs_df, gt_dict, k):\n",
    "    user_recalls = []\n",
    "    for user_id, user_recs in recs_df.groupby('user_id'):\n",
    "        if user_id in gt_dict:\n",
    "            recs_k = user_recs.head(k)['item_id'].tolist()\n",
    "            gt = gt_dict[user_id]\n",
    "            hits = len(set(recs_k) & set(gt))\n",
    "            user_recalls.append(hits / len(gt))\n",
    "    return np.mean(user_recalls) if user_recalls else 0\n",
    "\n",
    "def coverage_at_k(recs_df, all_items, k):\n",
    "    recommended_items = recs_df.groupby('user_id').head(k)['item_id'].unique()\n",
    "    return len(recommended_items) / len(all_items)\n",
    "\n",
    "def novelty_at_k(recs_df, train_interactions, k):\n",
    "    \"\"\"Считает долю новых (непрослушанных) треков в рекомендациях.\"\"\"\n",
    "    train_user_items = train_interactions.groupby('user_id')['item_id'].apply(set).to_dict()\n",
    "    \n",
    "    user_novelty_scores = []\n",
    "    for user_id, user_recs in recs_df.groupby('user_id'):\n",
    "        seen_items = train_user_items.get(user_id, set())\n",
    "        recs_k = user_recs.head(k)['item_id'].tolist()\n",
    "        \n",
    "        unseen_count = len(set(recs_k) - seen_items)\n",
    "        user_novelty_scores.append(unseen_count / k)\n",
    "        \n",
    "    return np.mean(user_novelty_scores) if user_novelty_scores else 0"
   ]
  },
  {
   "cell_type": "code",
   "execution_count": 25,
   "id": "26df411f-14c1-4848-8797-f37afe449cc6",
   "metadata": {},
   "outputs": [],
   "source": [
    "# --- Расчет метрик ---\n",
    "metrics = {}\n",
    "\n",
    "# обрезаем список популярных до K элементов\n",
    "top_k_popular_items = top_popular.head(K)\n",
    "\n",
    "# создаем небольшой и эффективный DataFrame\n",
    "# Его размер будет всего лишь len(all_users) * K, что легко поместится в память\n",
    "all_users = events['user_id'].unique()\n",
    "top_popular_recs = pd.DataFrame({\n",
    "    'user_id': np.repeat(all_users, len(top_k_popular_items)),\n",
    "    'item_id': np.tile(top_k_popular_items['item_id'], len(all_users))\n",
    "})\n",
    "\n",
    "# Расчет метрик для \"Топ популярных\" теперь будет работать\n",
    "metrics['Top Popular'] = {\n",
    "    'precision@10': precision_at_k(top_popular_recs, test_user_items, K),\n",
    "    'recall@10': recall_at_k(top_popular_recs, test_user_items, K),\n",
    "    'coverage@10': coverage_at_k(top_popular_recs, all_items, K),\n",
    "    'novelty@10': novelty_at_k(top_popular_recs, train_interactions, K)\n",
    "}\n",
    "\n",
    "# Персональные ALS\n",
    "# Загружаем сохраненные ранее рекомендации\n",
    "als_recommendations = pd.read_parquet(\n",
    "    f's3://{S3_BUCKET_NAME}/recsys/recommendations/personal_als.parquet', \n",
    "    storage_options=storage_options\n",
    ")\n",
    "metrics['Personal ALS'] = {\n",
    "    'precision@10': precision_at_k(als_recommendations, test_user_items, K),\n",
    "    'recall@10': recall_at_k(als_recommendations, test_user_items, K),\n",
    "    'coverage@10': coverage_at_k(als_recommendations, all_items, K),\n",
    "    'novelty@10': novelty_at_k(als_recommendations, train_interactions, K)\n",
    "}\n",
    "\n",
    "# Итоговые ранжированные\n",
    "# Загружаем сохраненные ранее рекомендации\n",
    "recommendations = pd.read_parquet(\n",
    "    f's3://{S3_BUCKET_NAME}/recsys/recommendations/recommendations.parquet', \n",
    "    storage_options=storage_options\n",
    ")\n",
    "metrics['Final Ranked'] = {\n",
    "    'precision@10': precision_at_k(recommendations, test_user_items, K),\n",
    "    'recall@10': recall_at_k(recommendations, test_user_items, K),\n",
    "    'coverage@10': coverage_at_k(recommendations, all_items, K),\n",
    "    'novelty@10': novelty_at_k(recommendations, train_interactions, K)\n",
    "}"
   ]
  },
  {
   "cell_type": "code",
   "execution_count": 26,
   "id": "44c82c2b",
   "metadata": {},
   "outputs": [
    {
     "name": "stdout",
     "output_type": "stream",
     "text": [
      "              precision@10  recall@10  coverage@10  novelty@10\n",
      "Top Popular       0.003970   0.003057     0.000013    0.934819\n",
      "Personal ALS      0.007279   0.011493     0.004135    0.965480\n",
      "Final Ranked      0.007212   0.012155     0.012719    0.950728\n"
     ]
    }
   ],
   "source": [
    "metrics_df = pd.DataFrame(metrics).T\n",
    "print(metrics_df)"
   ]
  },
  {
   "cell_type": "markdown",
   "id": "f1c8d38c-32b0-46a4-96f0-cd01dac708bc",
   "metadata": {},
   "source": [
    "# === Выводы, метрики ==="
   ]
  },
  {
   "cell_type": "markdown",
   "id": "f7d7d5d8-7d1e-4fdf-a6cd-83e5ce92c684",
   "metadata": {},
   "source": [
    "Основные выводы при работе над расчётом рекомендаций, рассчитанные метрики."
   ]
  },
  {
   "cell_type": "markdown",
   "id": "074f8d16",
   "metadata": {},
   "source": [
    "В ходе выполнения проекта был построен полный пайплайн для создания и оценки рекомендательной системы. Были реализованы три подхода: базовый (топ популярных), персонализированный (ALS) и Двухстадийный (Ранжирование кандидатов от ALS с помощью модели градиентного бустинга и дополнительных признаков)."
   ]
  },
  {
   "cell_type": "markdown",
   "id": "e08471ae",
   "metadata": {},
   "source": [
    "# Анализ результатов:\n",
    "\n",
    "# Эффективность персонализации (Top Popular vs. Personal ALS):\n",
    "\n",
    "Модель Personal ALS значительно превосходит базовый подход Top Popular по всем ключевым метрикам. Точность (precision) выросла почти вдвое, а полнота (recall) — почти в 4 раза.\n",
    "\n",
    "Покрытие (coverage) увеличилось на несколько порядков, что свидетельствует о способности ALS рекомендовать широкий ассортимент треков, а не только самые популярные хиты.\n",
    "\n",
    "Новизна (novelty) также выше, что подтверждает способность модели находить для пользователей новую, релевантную музыку.\n",
    "\n",
    "# Ценность двухстадийного подхода (Personal ALS vs. Final Ranked):\n",
    "\n",
    "Ранжирующая модель Final Ranked демонстрирует преимущества сбалансированного подхода. Несмотря на незначительное снижение precision, модель улучшила recall и увеличила coverage почти в 3 раза.\n",
    "\n",
    "Этот результат является ключевым успехом. Модель научилась не только находить точные совпадения, но и знакомить пользователей с гораздо более широкой частью музыкального каталога, что критически важно для удержания и вовлечения аудитории.\n",
    "\n",
    "Небольшое снижение новизны и точности является приемлемым компромиссом за столь значительный рост покрытия и полноты рекомендаций."
   ]
  },
  {
   "cell_type": "markdown",
   "id": "07b8f795",
   "metadata": {},
   "source": [
    "# Итоговый вывод: \n",
    "\n",
    "Полученные результаты наглядно демонстрируют ценность построения многоуровневой рекомендательной системы. Базовая модель показала себя слабой, а персонализация с помощью ALS дала значительный прирост качества. Финальный двухстадийный подход (Final Ranked) позволил создать наиболее сбалансированную модель, которая не только точна, но и способна расширять музыкальный кругозор пользователей.\n",
    "\n",
    "Итоговая модель Final Ranked является однозначным победителем и рекомендуется как основной кандидат для дальнейшего онлайн A/B-тестирования."
   ]
  }
 ],
 "metadata": {
  "kernelspec": {
   "display_name": ".venv",
   "language": "python",
   "name": "python3"
  },
  "language_info": {
   "codemirror_mode": {
    "name": "ipython",
    "version": 3
   },
   "file_extension": ".py",
   "mimetype": "text/x-python",
   "name": "python",
   "nbconvert_exporter": "python",
   "pygments_lexer": "ipython3",
   "version": "3.10.12"
  }
 },
 "nbformat": 4,
 "nbformat_minor": 5
}
